{
 "cells": [
  {
   "cell_type": "code",
   "execution_count": 2,
   "metadata": {},
   "outputs": [
    {
     "data": {
      "text/plain": [
       "{'class %%%(%%%):': 'Make a class named %%% that is-a %%%',\n",
       " 'class %%%(object):\\n\\tdef __init__(self, ***)': 'class %%% has-a __init__ that takes self and *** params',\n",
       " 'class %%%(object):\\n\\tdef **(self, @@@)': 'class %%% has-a function *** that takes self and @@@ params.',\n",
       " '*** = %%%()': 'Set *** to an instance of class %%%.',\n",
       " '***.***(@@@)': 'From *** get the *** function, call it with params self, @@@.',\n",
       " \"***.*** = '***'\": \"From *** get the *** attribute and set it to '***'.\"}"
      ]
     },
     "execution_count": 2,
     "metadata": {},
     "output_type": "execute_result"
    }
   ],
   "source": [
    "import random\n",
    "from urllib.request import urlopen\n",
    "import sys\n",
    "\n",
    "WORD_URL = \"http://learncodethehardway.org/words.txt\"\n",
    "WORDS = []\n",
    "\n",
    "PHRASES = {\n",
    "    \"class %%%(%%%):\":\n",
    "     \"Make a class named %%% that is-a %%%\",\n",
    "\n",
    "    \"class %%%(object):\\n\\tdef __init__(self, ***)\" :\n",
    "     \"class %%% has-a __init__ that takes self and *** params\",\n",
    "\n",
    "    \"class %%%(object):\\n\\tdef **(self, @@@)\":\n",
    "    \"class %%% has-a function *** that takes self and @@@ params.\",\n",
    "\n",
    "    \"*** = %%%()\":\n",
    "    \"Set *** to an instance of class %%%.\",\n",
    "\n",
    "    \"***.***(@@@)\":\n",
    "    \"From *** get the *** function, call it with params self, @@@.\",\n",
    "\n",
    "    \"***.*** = '***'\":\n",
    "    \"From *** get the *** attribute and set it to '***'.\"\n",
    "}\n",
    "\n",
    "\n",
    "\n",
    "\n",
    "\n",
    "PHRASES\n",
    "\n"
   ]
  },
  {
   "cell_type": "code",
   "execution_count": 7,
   "metadata": {},
   "outputs": [
    {
     "data": {
      "text/plain": [
       "['c:\\\\Users\\\\mriedeman\\\\Anaconda3\\\\lib\\\\site-packages\\\\ipykernel_launcher.py',\n",
       " '--ip=127.0.0.1',\n",
       " '--stdin=9003',\n",
       " '--control=9001',\n",
       " '--hb=9000',\n",
       " '--Session.signature_scheme=\"hmac-sha256\"',\n",
       " '--Session.key=b\"2918b8ca-76a8-465c-8d4d-156e6a93759f\"',\n",
       " '--shell=9002',\n",
       " '--transport=\"tcp\"',\n",
       " '--iopub=9004',\n",
       " '--f=c:\\\\Users\\\\mriedeman\\\\AppData\\\\Roaming\\\\jupyter\\\\runtime\\\\kernel-19892pJg9s0MuLoEe.json']"
      ]
     },
     "execution_count": 7,
     "metadata": {},
     "output_type": "execute_result"
    }
   ],
   "source": [
    "sys.argv"
   ]
  },
  {
   "cell_type": "code",
   "execution_count": null,
   "metadata": {},
   "outputs": [],
   "source": [
    "# argv[0] is the script name: python ex41_00p_practice.ipynb\n",
    "# argv[0] = ex41_00p_practice.ipynb\n",
    "\n",
    "# argv[1] will be 'english'\n",
    "# looks like this int he command line:\n",
    "#    python ex41_00p_practice.ipynb english\n",
    "#"
   ]
  },
  {
   "cell_type": "code",
   "execution_count": 12,
   "metadata": {},
   "outputs": [
    {
     "data": {
      "text/plain": [
       "[b'account\\n', b'achiever\\n', b'actor\\n', b'addition\\n', b'adjustment\\n']"
      ]
     },
     "execution_count": 12,
     "metadata": {},
     "output_type": "execute_result"
    }
   ],
   "source": [
    "#do they want to drill phrases first\n",
    "WORDS = []\n",
    "\n",
    "if len(sys.argv) == 2 and sys.argv[1] == 'english':\n",
    "    PHRASE_FIRST = True\n",
    "else:\n",
    "    PHRASE_FIRST = False\n",
    "\n",
    "# load up the words from the website\n",
    "# for word in urlopen(WORD_URL).readlines():\n",
    "#     WORDS.append(str(word.strip(), encoding = 'utf-8'))\n",
    "\n",
    "#read the strip\n",
    "WORDS = urlopen(WORD_URL).readlines()\n",
    "WORDS[:5]\n",
    "#the WORDS array consists of bytes, we need to use decode or encoding = 'utf-8' to remove the h"
   ]
  },
  {
   "cell_type": "code",
   "execution_count": 21,
   "metadata": {},
   "outputs": [
    {
     "data": {
      "text/plain": [
       "['account', 'achiever', 'actor', 'addition', 'adjustment']"
      ]
     },
     "execution_count": 21,
     "metadata": {},
     "output_type": "execute_result"
    }
   ],
   "source": [
    "#We get the same result from using .decode() as using encoding = 'utf-8'\n",
    "\n",
    "WORDS = []\n",
    "for word in urlopen(WORD_URL).readlines():\n",
    "    WORDS.append(str(word.strip().decode()))\n",
    "\n",
    "WORDS[:5]"
   ]
  },
  {
   "cell_type": "code",
   "execution_count": 26,
   "metadata": {},
   "outputs": [
    {
     "data": {
      "text/plain": [
       "['account', 'achiever', 'actor', 'addition', 'adjustment']"
      ]
     },
     "execution_count": 26,
     "metadata": {},
     "output_type": "execute_result"
    }
   ],
   "source": [
    "WORDS = []\n",
    "for word in urlopen(WORD_URL).readlines():\n",
    "    WORDS.append(str(word.strip(), encoding = 'utf-8'))\n",
    "\n",
    "WORDS[:5]"
   ]
  },
  {
   "cell_type": "code",
   "execution_count": 43,
   "metadata": {},
   "outputs": [
    {
     "data": {
      "text/plain": [
       "dict_keys(['class %%%(%%%):', 'class %%%(object):\\n\\tdef __init__(self, ***)', 'class %%%(object):\\n\\tdef **(self, @@@)', '*** = %%%()', '***.***(@@@)', \"***.*** = '***'\"])"
      ]
     },
     "execution_count": 43,
     "metadata": {},
     "output_type": "execute_result"
    }
   ],
   "source": [
    "snippets = (PHRASES.keys())\n",
    "\n",
    "snippets"
   ]
  },
  {
   "cell_type": "code",
   "execution_count": 44,
   "metadata": {},
   "outputs": [
    {
     "data": {
      "text/plain": [
       "['class %%%(%%%):',\n",
       " 'class %%%(object):\\n\\tdef __init__(self, ***)',\n",
       " 'class %%%(object):\\n\\tdef **(self, @@@)',\n",
       " '*** = %%%()',\n",
       " '***.***(@@@)',\n",
       " \"***.*** = '***'\"]"
      ]
     },
     "execution_count": 44,
     "metadata": {},
     "output_type": "execute_result"
    }
   ],
   "source": [
    "snippets = list(snippets)\n",
    "\n",
    "snippets"
   ]
  },
  {
   "cell_type": "code",
   "execution_count": 45,
   "metadata": {},
   "outputs": [
    {
     "data": {
      "text/plain": [
       "['account', 'achiever', 'actor', 'addition', 'adjustment']"
      ]
     },
     "execution_count": 45,
     "metadata": {},
     "output_type": "execute_result"
    }
   ],
   "source": [
    "WORDS[:5]"
   ]
  },
  {
   "cell_type": "code",
   "execution_count": 86,
   "metadata": {},
   "outputs": [
    {
     "data": {
      "text/plain": [
       "'class %%%(%%%):'"
      ]
     },
     "execution_count": 86,
     "metadata": {},
     "output_type": "execute_result"
    }
   ],
   "source": [
    "[snippet for snippet in snippets][0]"
   ]
  },
  {
   "cell_type": "code",
   "execution_count": 70,
   "metadata": {},
   "outputs": [
    {
     "name": "stdout",
     "output_type": "stream",
     "text": [
      "<class 'str'>\n",
      "<class 'str'>\n",
      "<class 'str'>\n",
      "<class 'str'>\n",
      "<class 'str'>\n",
      "<class 'str'>\n"
     ]
    }
   ],
   "source": [
    "for snippet in snippets:\n",
    "    print(type(snippet))"
   ]
  },
  {
   "cell_type": "code",
   "execution_count": 75,
   "metadata": {},
   "outputs": [
    {
     "name": "stdout",
     "output_type": "stream",
     "text": [
      "['breakfast', 'duck']\n",
      "['breath']\n",
      "['butto']\n",
      "['calendar']\n",
      "[]\n",
      "[]\n"
     ]
    }
   ],
   "source": [
    "for snippet in snippets:\n",
    "    print(random.sample(WORDS, snippet.count(\"%%%\")))"
   ]
  },
  {
   "cell_type": "code",
   "execution_count": null,
   "metadata": {},
   "outputs": [],
   "source": []
  },
  {
   "cell_type": "code",
   "execution_count": 48,
   "metadata": {},
   "outputs": [
    {
     "data": {
      "text/plain": [
       "['Make a class named %%% that is-a %%%',\n",
       " 'class %%% has-a __init__ that takes self and *** params',\n",
       " 'class %%% has-a function *** that takes self and @@@ params.',\n",
       " 'Set *** to an instance of class %%%.',\n",
       " 'From *** get the *** function, call it with params self, @@@.',\n",
       " \"From *** get the *** attribute and set it to '***'.\"]"
      ]
     },
     "execution_count": 48,
     "metadata": {},
     "output_type": "execute_result"
    }
   ],
   "source": [
    "psss = []\n",
    "for snippet in snippets:\n",
    "            phrase = PHRASES[snippet]\n",
    "            psss.append(phrase)\n",
    "\n",
    "\n",
    "psss"
   ]
  },
  {
   "cell_type": "code",
   "execution_count": 76,
   "metadata": {},
   "outputs": [
    {
     "name": "stdout",
     "output_type": "stream",
     "text": [
      "['army', 'competition']\n",
      "['bed']\n",
      "['berry']\n",
      "['channel']\n",
      "[]\n",
      "[]\n"
     ]
    }
   ],
   "source": [
    "for snippet in psss:\n",
    "    print(random.sample(WORDS, snippet.count(\"%%%\")))"
   ]
  },
  {
   "cell_type": "code",
   "execution_count": 90,
   "metadata": {},
   "outputs": [
    {
     "data": {
      "text/plain": [
       "2"
      ]
     },
     "execution_count": 90,
     "metadata": {},
     "output_type": "execute_result"
    }
   ],
   "source": [
    "#number of occurrences of %%% in the snippet\n",
    "random.sample(psss, 1)[0].count(\"%%%\")"
   ]
  },
  {
   "cell_type": "code",
   "execution_count": 91,
   "metadata": {},
   "outputs": [
    {
     "data": {
      "text/plain": [
       "['bed', 'beginner']"
      ]
     },
     "execution_count": 91,
     "metadata": {},
     "output_type": "execute_result"
    }
   ],
   "source": [
    "#list of words used to represent random names of classes\n",
    "random.sample(WORDS, random.sample(psss, 1)[0].count(\"%%%\"))"
   ]
  },
  {
   "cell_type": "code",
   "execution_count": 95,
   "metadata": {},
   "outputs": [
    {
     "data": {
      "text/plain": [
       "['Change']"
      ]
     },
     "execution_count": 95,
     "metadata": {},
     "output_type": "execute_result"
    }
   ],
   "source": [
    "# Use list comprehension to capitalize each word, often times the array will be empty because there are no %%% symbols in the snippet\n",
    "[w.capitalize() for w in random.sample(WORDS, random.sample(psss, 1)[0].count(\"%%%\"))]"
   ]
  },
  {
   "cell_type": "code",
   "execution_count": null,
   "metadata": {},
   "outputs": [],
   "source": [
    "#break down the convert function\n",
    "\n",
    "# class names is a list of capitalized words randomly chose from the WORDS list, the number of choices depends on the occurences of the %%% symbol in the snippet\n",
    "class_names = [w.capitalize() for w in random.sample(WORDS, snippet.count(\"%%%\"))]\n",
    "# other_names is similar to class_names except these words aren't capitalized and the number of words is determined by the *** symbol\n",
    "other_names = random.sample(WORDS, snippet.count(\"***\"))\n",
    "#the results and param_names list are created to store data later\n",
    "results = []\n",
    "param_names = []"
   ]
  },
  {
   "cell_type": "code",
   "execution_count": 107,
   "metadata": {},
   "outputs": [
    {
     "data": {
      "text/plain": [
       "2"
      ]
     },
     "execution_count": 107,
     "metadata": {},
     "output_type": "execute_result"
    }
   ],
   "source": [
    "random.randint(1,3)"
   ]
  },
  {
   "cell_type": "code",
   "execution_count": 109,
   "metadata": {},
   "outputs": [
    {
     "data": {
      "text/plain": [
       "'debt,arithmetic,curve,bike,attraction,airplane,carpenter'"
      ]
     },
     "execution_count": 109,
     "metadata": {},
     "output_type": "execute_result"
    }
   ],
   "source": [
    "WORD_LIST = random.sample(WORDS, 7)\n",
    "\n",
    "','.join(WORD_LIST)"
   ]
  },
  {
   "cell_type": "code",
   "execution_count": 110,
   "metadata": {},
   "outputs": [
    {
     "data": {
      "text/plain": [
       "'debt, arithmetic, curve, bike, attraction, airplane, carpenter'"
      ]
     },
     "execution_count": 110,
     "metadata": {},
     "output_type": "execute_result"
    }
   ],
   "source": [
    "', '.join(WORD_LIST)"
   ]
  },
  {
   "cell_type": "code",
   "execution_count": 112,
   "metadata": {},
   "outputs": [
    {
     "data": {
      "text/plain": [
       "'debtarithmeticcurvebikeattractionairplanecarpenter'"
      ]
     },
     "execution_count": 112,
     "metadata": {},
     "output_type": "execute_result"
    }
   ],
   "source": [
    "''.join(WORD_LIST)"
   ]
  },
  {
   "cell_type": "code",
   "execution_count": 113,
   "metadata": {},
   "outputs": [
    {
     "data": {
      "text/plain": [
       "['debt, arithmetic, curve, bike, attraction, airplane, carpenter',\n",
       " 'debt, arithmetic, curve, bike, attraction, airplane, carpenter',\n",
       " 'debt, arithmetic, curve, bike, attraction, airplane, carpenter',\n",
       " 'debt, arithmetic, curve, bike, attraction, airplane, carpenter']"
      ]
     },
     "execution_count": 113,
     "metadata": {},
     "output_type": "execute_result"
    }
   ],
   "source": [
    "param_names = []\n",
    "for i in range(0, 4):\n",
    "    param_names.append(', '.join(WORD_LIST))\n",
    "\n",
    "param_names"
   ]
  },
  {
   "cell_type": "code",
   "execution_count": null,
   "metadata": {},
   "outputs": [],
   "source": [
    "\n",
    "\n",
    "for i in range(0, snippet.count(\"@@@\")):\n",
    "    \n",
    "    # param count is a random number of 1, 2, or 3\n",
    "    param_count = random.randint(1,3)\n",
    "    \n",
    "    # create a list of comma separated param names randomly chosen from the WORDS list\n",
    "    param_names.append(', '.join(\n",
    "        random.sample(WORDS, param_count)))"
   ]
  },
  {
   "cell_type": "code",
   "execution_count": 142,
   "metadata": {},
   "outputs": [
    {
     "name": "stdout",
     "output_type": "stream",
     "text": [
      "paul, ryan, michael, dan\n",
      "cat, dog, bird, hamster\n"
     ]
    }
   ],
   "source": [
    "#looping through two strings at once\n",
    "\n",
    "sn = ', '.join([\"paul\",'ryan','michael','dan'])\n",
    "phr = ', '.join(['cat', 'dog', 'bird', 'hamster'])\n",
    "\n",
    "for s in sn, phr:\n",
    "    print(s)\n"
   ]
  },
  {
   "cell_type": "code",
   "execution_count": 143,
   "metadata": {},
   "outputs": [
    {
     "name": "stdout",
     "output_type": "stream",
     "text": [
      "p\n",
      "c\n"
     ]
    }
   ],
   "source": [
    "#looping through two strings at once\n",
    "\n",
    "\n",
    "sn = ', '.join([\"paul\",'ryan','michael','dan'])\n",
    "phr = ', '.join(['cat', 'dog', 'bird', 'hamster'])\n",
    "\n",
    "for s in sn, phr:\n",
    "    print(s[0])"
   ]
  },
  {
   "cell_type": "code",
   "execution_count": 145,
   "metadata": {},
   "outputs": [
    {
     "name": "stdout",
     "output_type": "stream",
     "text": [
      "<class 'str'>\n",
      "<class 'str'>\n"
     ]
    }
   ],
   "source": [
    "sn = ', '.join([\"paul\",'ryan','michael','dan'])\n",
    "phr = ', '.join(['cat', 'dog', 'bird', 'hamster'])\n",
    "\n",
    "for s in sn, phr:\n",
    "    print(type(s))"
   ]
  },
  {
   "cell_type": "code",
   "execution_count": 138,
   "metadata": {},
   "outputs": [
    {
     "name": "stdout",
     "output_type": "stream",
     "text": [
      "also_a_replacement, paul, ryan, michael, dan\n",
      "cat, dog, replacement, hamster\n"
     ]
    }
   ],
   "source": [
    "sn = \", \".join([\"2\",\"paul\",'ryan','michael','dan'])\n",
    "phr = \", \".join(['cat', 'dog', 'bird', 'hamster'])\n",
    "word = 'replacement'\n",
    "for s in sn, phr:\n",
    "    result = s[:]\n",
    "\n",
    "    result = result.replace(\"bird\", word)\n",
    "    result = result.replace(str(2), 'also_a_replacement')\n",
    "    print(result)\n",
    "\n"
   ]
  },
  {
   "cell_type": "code",
   "execution_count": 133,
   "metadata": {},
   "outputs": [
    {
     "data": {
      "text/plain": [
       "'jan, paul, ryan, michael, dan'"
      ]
     },
     "execution_count": 133,
     "metadata": {},
     "output_type": "execute_result"
    }
   ],
   "source": [
    "sn = \", \".join([\"david\",\"paul\",'ryan','michael','dan'])\n",
    "phr = \", \".join(['cat', 'dog', 'bird', 'hamster'])\n",
    "\n",
    "j = sn[:]\n",
    "\n",
    "j.replace('david', 'jan')"
   ]
  },
  {
   "cell_type": "code",
   "execution_count": null,
   "metadata": {},
   "outputs": [],
   "source": [
    "#looping through a list that looks like this:\n",
    "# [1, 2, 3, 4, 5]\n",
    "# ['cat', 'dog', 'bird', 'hamster']\n",
    "\n",
    "for sentence in snippet, phrase:\n",
    "        # duplicate the string so we are not mutating the orginal string\n",
    "        result = sentence[:]\n",
    "\n",
    "\n",
    "        \n",
    "        # replace the first instance of %%% in the snippet with  the current word in class_names\n",
    "        for word in class_names:\n",
    "            result = result.replace(\"%%%\", word, 1)\n",
    "\n",
    "        #do the same for other_names\n",
    "        for word in other_names:\n",
    "            result = result.replace(\"***\", word, 1)\n",
    "\n",
    "        # #do the same for param_names\n",
    "        for word in param_names:\n",
    "            result = result.replace(\"@@@\", word, 1)"
   ]
  },
  {
   "cell_type": "code",
   "execution_count": null,
   "metadata": {},
   "outputs": [],
   "source": [
    "def convert(snippet, phrase):\n",
    "    class_names = [w.capitalize() for w in random.sample(WORDS, snippet.count(\"%%%\"))]\n",
    "\n",
    "    other_names = random.sample(WORDS, snippet.count(\"***\"))\n",
    "    results = []\n",
    "    param_names = []\n",
    "\n",
    "    for i in range(0, snippet.count(\"@@@\")):\n",
    "        param_count = random.randint(1,3)\n",
    "        param_names.append(', '.join(\n",
    "            random.sample(WORDS, param_count)))\n",
    "\n",
    "    for sentence in snippet, phrase:\n",
    "        # this is how you duplicate a list or string\n",
    "        result = sentence[:]\n",
    "\n",
    "        # fake class names\n",
    "        for word in class_names:\n",
    "            result = result.replace(\"%%%\", word, 1)\n",
    "\n",
    "        # fake other names\n",
    "        for word in other_names:\n",
    "            result = result.replace(\"***\", word, 1)\n",
    "\n",
    "        # fake parameter lists\n",
    "        for word in param_names:\n",
    "            result = result.replace(\"@@@\", word, 1)\n",
    "\n",
    "        results.append(result)\n",
    "\n",
    "    return results"
   ]
  },
  {
   "cell_type": "code",
   "execution_count": null,
   "metadata": {},
   "outputs": [],
   "source": [
    "# keep going until they hit CTRL-D\n",
    "try:\n",
    "    while True:\n",
    "        snippets = list(PHRASES.keys())\n",
    "        random.shuffle(snippets)\n",
    "\n",
    "        for snippet in snippets:\n",
    "            phrase = PHRASES[snippet]\n",
    "            question, answer = convert(snippet, phrase)\n",
    "            if PHRASE_FIRST:\n",
    "                question, answer = answer, question\n",
    "            \n",
    "            print(question)\n",
    "\n",
    "            input(\"> \")\n",
    "            print(f\"ANSWER:   {answer}\\n\\n\")\n",
    "except EOFError:\n",
    "    print(\"\\nBye\")"
   ]
  }
 ],
 "metadata": {
  "interpreter": {
   "hash": "29b3082124edaad559b18bf6d45f1f8684191a0c4a23f8bc3b2f284e4ccc27be"
  },
  "kernelspec": {
   "display_name": "Python 3.9.12 ('base')",
   "language": "python",
   "name": "python3"
  },
  "language_info": {
   "codemirror_mode": {
    "name": "ipython",
    "version": 3
   },
   "file_extension": ".py",
   "mimetype": "text/x-python",
   "name": "python",
   "nbconvert_exporter": "python",
   "pygments_lexer": "ipython3",
   "version": "3.9.12"
  },
  "orig_nbformat": 4
 },
 "nbformat": 4,
 "nbformat_minor": 2
}
